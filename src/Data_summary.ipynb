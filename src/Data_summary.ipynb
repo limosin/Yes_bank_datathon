{
 "cells": [
  {
   "cell_type": "code",
   "execution_count": 3,
   "metadata": {},
   "outputs": [],
   "source": [
    "import numpy as np\n",
    "import matplotlib.pyplot as plt\n",
    "import seaborn as sns\n",
    "import pandas as pd\n",
    "%matplotlib inline\n",
    "from utils.Google_api import get_google_results as gegor\n",
    "from utils.fix_row import fix_row"
   ]
  },
  {
   "cell_type": "code",
   "execution_count": 6,
   "metadata": {},
   "outputs": [],
   "source": [
    "# Importing the dataset\n",
    "data = pd.read_excel('../Data/datathon_data.xlsx',)\n",
    "# Still the data is pretty bad"
   ]
  },
  {
   "cell_type": "code",
   "execution_count": 7,
   "metadata": {},
   "outputs": [
    {
     "data": {
      "text/html": [
       "<div>\n",
       "<style scoped>\n",
       "    .dataframe tbody tr th:only-of-type {\n",
       "        vertical-align: middle;\n",
       "    }\n",
       "\n",
       "    .dataframe tbody tr th {\n",
       "        vertical-align: top;\n",
       "    }\n",
       "\n",
       "    .dataframe thead th {\n",
       "        text-align: right;\n",
       "    }\n",
       "</style>\n",
       "<table border=\"1\" class=\"dataframe\">\n",
       "  <thead>\n",
       "    <tr style=\"text-align: right;\">\n",
       "      <th></th>\n",
       "      <th>cust_id_token</th>\n",
       "      <th>current_address3</th>\n",
       "      <th>current_city</th>\n",
       "      <th>current_state</th>\n",
       "      <th>current_pin_code</th>\n",
       "      <th>permanent_address3</th>\n",
       "      <th>permanent_city</th>\n",
       "      <th>permanent_state</th>\n",
       "      <th>permanent_pin_code</th>\n",
       "    </tr>\n",
       "  </thead>\n",
       "  <tbody>\n",
       "    <tr>\n",
       "      <th>0</th>\n",
       "      <td>1</td>\n",
       "      <td></td>\n",
       "      <td>JAMBI</td>\n",
       "      <td>INDONESIA</td>\n",
       "      <td>36126</td>\n",
       "      <td></td>\n",
       "      <td>CHENNAI</td>\n",
       "      <td>TAMIL NADU</td>\n",
       "      <td>600029</td>\n",
       "    </tr>\n",
       "    <tr>\n",
       "      <th>1</th>\n",
       "      <td>2</td>\n",
       "      <td>INJAMBAKKAM</td>\n",
       "      <td>CHENNAI</td>\n",
       "      <td>TAMIL NADU</td>\n",
       "      <td>600115</td>\n",
       "      <td></td>\n",
       "      <td>LONDON</td>\n",
       "      <td>MIDDLE SEX</td>\n",
       "      <td>HA047H</td>\n",
       "    </tr>\n",
       "    <tr>\n",
       "      <th>2</th>\n",
       "      <td>3</td>\n",
       "      <td>ROODEPOORT</td>\n",
       "      <td>JOHANNESBURG</td>\n",
       "      <td>GAUTENG</td>\n",
       "      <td>2169</td>\n",
       "      <td>MANDIR RMC GARDEN</td>\n",
       "      <td>PUNE</td>\n",
       "      <td>MAHARASHTRA</td>\n",
       "      <td>412207</td>\n",
       "    </tr>\n",
       "    <tr>\n",
       "      <th>3</th>\n",
       "      <td>4</td>\n",
       "      <td></td>\n",
       "      <td>DUBAI</td>\n",
       "      <td>DUBAI</td>\n",
       "      <td>18582</td>\n",
       "      <td></td>\n",
       "      <td>BARODA</td>\n",
       "      <td>GUJARAT</td>\n",
       "      <td>390007</td>\n",
       "    </tr>\n",
       "    <tr>\n",
       "      <th>4</th>\n",
       "      <td>5</td>\n",
       "      <td></td>\n",
       "      <td>SIRSA</td>\n",
       "      <td>HARYANA</td>\n",
       "      <td>125055</td>\n",
       "      <td></td>\n",
       "      <td>SIRSA</td>\n",
       "      <td>HARYANA</td>\n",
       "      <td>125055</td>\n",
       "    </tr>\n",
       "  </tbody>\n",
       "</table>\n",
       "</div>"
      ],
      "text/plain": [
       "  cust_id_token current_address3  current_city current_state current_pin_code  \\\n",
       "0             1                          JAMBI     INDONESIA            36126   \n",
       "1             2      INJAMBAKKAM       CHENNAI    TAMIL NADU           600115   \n",
       "2             3       ROODEPOORT  JOHANNESBURG       GAUTENG             2169   \n",
       "3             4                          DUBAI         DUBAI            18582   \n",
       "4             5                          SIRSA       HARYANA           125055   \n",
       "\n",
       "  permanent_address3 permanent_city permanent_state permanent_pin_code  \n",
       "0                           CHENNAI      TAMIL NADU             600029  \n",
       "1                            LONDON      MIDDLE SEX             HA047H  \n",
       "2  MANDIR RMC GARDEN           PUNE     MAHARASHTRA             412207  \n",
       "3                            BARODA         GUJARAT             390007  \n",
       "4                             SIRSA         HARYANA             125055  "
      ]
     },
     "execution_count": 7,
     "metadata": {},
     "output_type": "execute_result"
    }
   ],
   "source": [
    "# Taking only the column names\n",
    "column_names = [n for n in data.columns[0].split('|')]\n",
    "column_names[0] = 'cust_id_token'\n",
    "\n",
    "#Building a dataframe\n",
    "data = [[n for n in string[0].split('|')] for string in data.values]\n",
    "data = pd.DataFrame(data, columns= column_names)\n",
    "data.head()"
   ]
  },
  {
   "cell_type": "code",
   "execution_count": 11,
   "metadata": {},
   "outputs": [
    {
     "data": {
      "text/plain": [
       "{'formatted_address': 'Badi Sadak, Jalna, Maharashtra 431203, India',\n",
       " 'latitude': 19.8546518,\n",
       " 'longitude': 75.90204539999999,\n",
       " 'accuracy': 'APPROXIMATE',\n",
       " 'google_place_id': 'ChIJSfP7tf1Z2jsR2Z12ARdkAy0',\n",
       " 'type': 'political,sublocality,sublocality_level_1',\n",
       " 'postcode': '431203',\n",
       " 'input_string': 'Badi Sadak',\n",
       " 'number_of_results': 1,\n",
       " 'status': 'OK'}"
      ]
     },
     "execution_count": 11,
     "metadata": {},
     "output_type": "execute_result"
    }
   ],
   "source": [
    "# api_key Ex: = 'AIzaSyBlHxjuSsLQkwdzGn-Y6kDky00ha9Oy'\n",
    "# Note the above api is incorrect, enter your own api_key for running the code!!\n",
    "api_key = None\n",
    "ex_address = 'Badi Sadak'\n",
    "result = gegor(ex_address,api_key,False)\n",
    "result"
   ]
  },
  {
   "cell_type": "code",
   "execution_count": 7,
   "metadata": {},
   "outputs": [
    {
     "data": {
      "text/html": [
       "<div>\n",
       "<style scoped>\n",
       "    .dataframe tbody tr th:only-of-type {\n",
       "        vertical-align: middle;\n",
       "    }\n",
       "\n",
       "    .dataframe tbody tr th {\n",
       "        vertical-align: top;\n",
       "    }\n",
       "\n",
       "    .dataframe thead th {\n",
       "        text-align: right;\n",
       "    }\n",
       "</style>\n",
       "<table border=\"1\" class=\"dataframe\">\n",
       "  <thead>\n",
       "    <tr style=\"text-align: right;\">\n",
       "      <th></th>\n",
       "      <th>cust_id_token</th>\n",
       "      <th>current_address3</th>\n",
       "      <th>current_city</th>\n",
       "      <th>current_state</th>\n",
       "      <th>current_pin_code</th>\n",
       "      <th>permanent_address3</th>\n",
       "      <th>permanent_city</th>\n",
       "      <th>permanent_state</th>\n",
       "      <th>permanent_pin_code</th>\n",
       "    </tr>\n",
       "  </thead>\n",
       "  <tbody>\n",
       "    <tr>\n",
       "      <th>0</th>\n",
       "      <td>1</td>\n",
       "      <td></td>\n",
       "      <td>JAMBI</td>\n",
       "      <td>INDONESIA</td>\n",
       "      <td>36126</td>\n",
       "      <td></td>\n",
       "      <td>CHENNAI</td>\n",
       "      <td>TAMIL NADU</td>\n",
       "      <td>600029</td>\n",
       "    </tr>\n",
       "    <tr>\n",
       "      <th>1</th>\n",
       "      <td>2</td>\n",
       "      <td>INJAMBAKKAM</td>\n",
       "      <td>CHENNAI</td>\n",
       "      <td>TAMIL NADU</td>\n",
       "      <td>600115</td>\n",
       "      <td></td>\n",
       "      <td>LONDON</td>\n",
       "      <td>MIDDLE SEX</td>\n",
       "      <td></td>\n",
       "    </tr>\n",
       "    <tr>\n",
       "      <th>2</th>\n",
       "      <td>3</td>\n",
       "      <td>ROODEPOORT</td>\n",
       "      <td>JOHANNESBURG</td>\n",
       "      <td>GAUTENG</td>\n",
       "      <td>2169</td>\n",
       "      <td>MANDIR RMC GARDEN</td>\n",
       "      <td>PUNE</td>\n",
       "      <td>MAHARASHTRA</td>\n",
       "      <td>412207</td>\n",
       "    </tr>\n",
       "    <tr>\n",
       "      <th>3</th>\n",
       "      <td>4</td>\n",
       "      <td></td>\n",
       "      <td>DUBAI</td>\n",
       "      <td>DUBAI</td>\n",
       "      <td>18582</td>\n",
       "      <td></td>\n",
       "      <td>BARODA</td>\n",
       "      <td>GUJARAT</td>\n",
       "      <td>390007</td>\n",
       "    </tr>\n",
       "    <tr>\n",
       "      <th>4</th>\n",
       "      <td>5</td>\n",
       "      <td></td>\n",
       "      <td>SIRSA</td>\n",
       "      <td>HARYANA</td>\n",
       "      <td>125055</td>\n",
       "      <td></td>\n",
       "      <td>SIRSA</td>\n",
       "      <td>HARYANA</td>\n",
       "      <td>125055</td>\n",
       "    </tr>\n",
       "  </tbody>\n",
       "</table>\n",
       "</div>"
      ],
      "text/plain": [
       "  cust_id_token current_address3  current_city current_state current_pin_code  \\\n",
       "0             1                          JAMBI     INDONESIA            36126   \n",
       "1             2      INJAMBAKKAM       CHENNAI    TAMIL NADU           600115   \n",
       "2             3       ROODEPOORT  JOHANNESBURG       GAUTENG             2169   \n",
       "3             4                          DUBAI         DUBAI            18582   \n",
       "4             5                          SIRSA       HARYANA           125055   \n",
       "\n",
       "  permanent_address3 permanent_city permanent_state permanent_pin_code  \n",
       "0                           CHENNAI      TAMIL NADU             600029  \n",
       "1                            LONDON      MIDDLE SEX                     \n",
       "2  MANDIR RMC GARDEN           PUNE     MAHARASHTRA             412207  \n",
       "3                            BARODA         GUJARAT             390007  \n",
       "4                             SIRSA         HARYANA             125055  "
      ]
     },
     "execution_count": 7,
     "metadata": {},
     "output_type": "execute_result"
    }
   ],
   "source": [
    "for row, values_list in enumerate(data.values):\n",
    "    data.iloc[row][1:] = fix_row(values_list[1:])\n",
    "data.head()"
   ]
  },
  {
   "cell_type": "code",
   "execution_count": 20,
   "metadata": {},
   "outputs": [],
   "source": [
    "# The last address column that is the current state column doesn't seems to be much useful\n",
    "\n",
    "curr_lat, curr_long, perm_lat, perm_long = [],[],[],[]\n",
    "count = 0\n",
    "for row in data.values:\n",
    "    if count%20==0:\n",
    "        print(str(count)+ 'out of '+data.shape[0]+' done...')\n",
    "    address_curr = ' '.join(row[1:4])\n",
    "    address_perm = ' '.join(row[4:])\n",
    "    \n",
    "    print_extra_info = False\n",
    "    \n",
    "    curr_add_results = gegor(address_curr, api_key, print_extra_info)\n",
    "    perm_add_results = gegor(address_perm, api_key, print_extra_info)\n",
    "    \n",
    "    curr_lat.append(curr_add_results['latitude'])\n",
    "    curr_long.append(curr_add_results['longitude'])\n",
    "    \n",
    "    perm_lat.append(curr_add_results['latitude'])\n",
    "    perm_long.append(curr_add_results['longitude'])"
   ]
  },
  {
   "cell_type": "code",
   "execution_count": 23,
   "metadata": {},
   "outputs": [],
   "source": [
    "data['Curr_add_lat'] = curr_lat\n",
    "data['Curr_add_long'] = curr_long\n",
    "data['Perm_add_lat'] = perm_lat\n",
    "data['Perm_add_long'] = perm_long"
   ]
  },
  {
   "cell_type": "code",
   "execution_count": 26,
   "metadata": {},
   "outputs": [],
   "source": [
    "data.to_csv('../Data/Data_with_logits.csv', index=False)"
   ]
  },
  {
   "cell_type": "code",
   "execution_count": 27,
   "metadata": {},
   "outputs": [
    {
     "data": {
      "text/plain": [
       "{'formatted_address': 'Chennai, Tamil Nadu, India',\n",
       " 'latitude': 13.0826802,\n",
       " 'longitude': 80.2707184,\n",
       " 'accuracy': 'APPROXIMATE',\n",
       " 'google_place_id': 'ChIJYTN9T-plUjoRM9RjaAunYW4',\n",
       " 'type': 'locality,political',\n",
       " 'postcode': '',\n",
       " 'input_string': 'CHENNAI TAMIL NADU 60029',\n",
       " 'number_of_results': 2,\n",
       " 'status': 'OK'}"
      ]
     },
     "execution_count": 27,
     "metadata": {},
     "output_type": "execute_result"
    }
   ],
   "source": [
    "curr_add_results = gegor('CHENNAI TAMIL NADU 60029', api_key, print_extra_info)\n",
    "curr_add_results"
   ]
  },
  {
   "cell_type": "code",
   "execution_count": null,
   "metadata": {},
   "outputs": [],
   "source": []
  }
 ],
 "metadata": {
  "kernelspec": {
   "display_name": "Python 3",
   "language": "python",
   "name": "python3"
  },
  "language_info": {
   "codemirror_mode": {
    "name": "ipython",
    "version": 3
   },
   "file_extension": ".py",
   "mimetype": "text/x-python",
   "name": "python",
   "nbconvert_exporter": "python",
   "pygments_lexer": "ipython3",
   "version": "3.7.1"
  }
 },
 "nbformat": 4,
 "nbformat_minor": 2
}
