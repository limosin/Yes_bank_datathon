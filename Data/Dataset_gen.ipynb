{
 "cells": [
  {
   "cell_type": "code",
   "execution_count": 1,
   "metadata": {},
   "outputs": [],
   "source": [
    "import pandas as pd\n",
    "import numpy as np"
   ]
  },
  {
   "cell_type": "code",
   "execution_count": 2,
   "metadata": {},
   "outputs": [],
   "source": [
    "data = pd.read_csv('part-00000-40b68739-62af-4fa2-8b46-70a2126c74eb-c000.csv', delimiter='|',warn_bad_lines = False,error_bad_lines=False)"
   ]
  },
  {
   "cell_type": "code",
   "execution_count": 3,
   "metadata": {},
   "outputs": [
    {
     "data": {
      "text/plain": [
       "cust_id_token               0\n",
       "current_address3      3430788\n",
       "current_city             2628\n",
       "current_state            2723\n",
       "current_pin_code         8064\n",
       "permanent_address3    7669125\n",
       "permanent_city        4015563\n",
       "permanent_state       4016284\n",
       "permanent_pin_code    4028382\n",
       "dtype: int64"
      ]
     },
     "execution_count": 3,
     "metadata": {},
     "output_type": "execute_result"
    }
   ],
   "source": [
    "data.drop(['permanent_city', 'permanent_state','permanent_pin_code','permanent_address3'], axis=1, inplace =True)\n",
    "data.isnull().sum(axis=0)"
   ]
  },
  {
   "cell_type": "code",
   "execution_count": 4,
   "metadata": {},
   "outputs": [],
   "source": [
    "# data = data[data.isnull().sum(axis=1) < 3]\n",
    "# data[data.isnull().sum(axis=1) > 1].head()"
   ]
  },
  {
   "cell_type": "code",
   "execution_count": 6,
   "metadata": {},
   "outputs": [],
   "source": [
    "# drop columns with more than 3 fields empty but not pin code\n",
    "data = data[~(data.isnull().sum(axis=1) > 3)]\n",
    "data_empty_city_row = data[(data['current_city'].isnull()) & (data.isnull().sum(axis=1) == 1)] # data with no current city\n",
    "data_empty_state_row = data[(data['current_state'].isnull()) & (data.isnull().sum(axis=1) == 1)] # data with no current state\n",
    "data_empty_pin = data[(data['current_pin_code'].isnull()) & (data.isnull().sum(axis=1) == 1)] # data with no pin code\n",
    "data_empty_address = data[(data['current_address3'].isnull()) & (data.isnull().sum(axis=1) == 1)][0:200] # data with no current address\n",
    "data_empty_address_city = data[(data['current_city'].isnull()) & (data['current_address3'].isnull()) & (data.isnull().sum(axis=1) == 2)] # data with no current address and city\n",
    "data_empty_city_city = data[(data['current_city'].isnull()) & (data['current_address3'].isnull()) & (data.isnull().sum(axis=1) == 2)] # data with no current address and city\n"
   ]
  },
  {
   "cell_type": "code",
   "execution_count": null,
   "metadata": {},
   "outputs": [],
   "source": [
    "data_empty_address_city.shape"
   ]
  },
  {
   "cell_type": "code",
   "execution_count": null,
   "metadata": {},
   "outputs": [],
   "source": []
  },
  {
   "cell_type": "code",
   "execution_count": null,
   "metadata": {},
   "outputs": [],
   "source": []
  },
  {
   "cell_type": "code",
   "execution_count": null,
   "metadata": {},
   "outputs": [],
   "source": []
  }
 ],
 "metadata": {
  "kernelspec": {
   "display_name": "Python 3",
   "language": "python",
   "name": "python3"
  },
  "language_info": {
   "codemirror_mode": {
    "name": "ipython",
    "version": 3
   },
   "file_extension": ".py",
   "mimetype": "text/x-python",
   "name": "python",
   "nbconvert_exporter": "python",
   "pygments_lexer": "ipython3",
   "version": "3.7.1"
  }
 },
 "nbformat": 4,
 "nbformat_minor": 2
}
